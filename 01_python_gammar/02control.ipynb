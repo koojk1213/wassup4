{
 "cells": [
  {
   "cell_type": "code",
   "execution_count": 1,
   "id": "e844ff33-1e47-4838-812b-539e9345de1f",
   "metadata": {},
   "outputs": [],
   "source": [
    "#if"
   ]
  },
  {
   "cell_type": "code",
   "execution_count": 23,
   "id": "eeb94e84-2fd2-433c-9f35-7d260fc9a991",
   "metadata": {},
   "outputs": [
    {
     "ename": "SyntaxError",
     "evalue": "expected ':' (784956420.py, line 2)",
     "output_type": "error",
     "traceback": [
      "\u001b[1;36m  Cell \u001b[1;32mIn[23], line 2\u001b[1;36m\u001b[0m\n\u001b[1;33m    if money > 3000\u001b[0m\n\u001b[1;37m                   ^\u001b[0m\n\u001b[1;31mSyntaxError\u001b[0m\u001b[1;31m:\u001b[0m expected ':'\n"
     ]
    }
   ],
   "source": [
    "money = True\n",
    "if money > 3000\n",
    "    print(\"택시를 타고 가라\")\n",
    "else < 3000\n",
    "    print(\"걸어 가라\")\n",
    "택시를 타고 가라\n"
   ]
  },
  {
   "cell_type": "code",
   "execution_count": 9,
   "id": "2a3a924e-d26a-41ab-87b9-fbfdada06057",
   "metadata": {},
   "outputs": [
    {
     "data": {
      "text/plain": [
       "True"
      ]
     },
     "execution_count": 9,
     "metadata": {},
     "output_type": "execute_result"
    }
   ],
   "source": [
    "x =3\n",
    "y =2\n",
    "x> y"
   ]
  },
  {
   "cell_type": "code",
   "execution_count": 17,
   "id": "f0f861b1-c91c-484f-babe-fb498d632868",
   "metadata": {},
   "outputs": [
    {
     "name": "stdout",
     "output_type": "stream",
     "text": [
      "택시를 타라\n"
     ]
    }
   ],
   "source": [
    "money = 3000\n",
    "if money >= 3000:\n",
    "    print(\"택시를 타라\")\n",
    "else:\n",
    "    print(\"걸어가라\")"
   ]
  },
  {
   "cell_type": "code",
   "execution_count": 61,
   "id": "859b20ff-e2c7-4c34-8ba1-709e1656c703",
   "metadata": {},
   "outputs": [
    {
     "name": "stdout",
     "output_type": "stream",
     "text": [
      "택시타\n"
     ]
    }
   ],
   "source": [
    "money = 0\n",
    "card = True\n",
    "if money >= 3000 or card:\n",
    "    print(\"택시타\")\n",
    "else :\n",
    "    print(\"걸어\")"
   ]
  },
  {
   "cell_type": "code",
   "execution_count": 65,
   "id": "c6566ab2-a8f9-4907-9c38-06753f7414a5",
   "metadata": {},
   "outputs": [
    {
     "name": "stdout",
     "output_type": "stream",
     "text": [
      "택시\n"
     ]
    }
   ],
   "source": [
    "money = 0\n",
    "pocket = ['money', 'card', 'phone']\n",
    "if 'money' in pocket:\n",
    "    print('택시')\n",
    "elif card: \n",
    "    print('택시')\n",
    "else :\n",
    "    print('튀')"
   ]
  },
  {
   "cell_type": "code",
   "execution_count": 71,
   "id": "2a96d4ff-dd84-49f1-8725-13bf53f6fd57",
   "metadata": {},
   "outputs": [],
   "source": [
    "###조건부"
   ]
  },
  {
   "cell_type": "code",
   "execution_count": 73,
   "id": "5e676b78-e2a2-4ed1-b9d4-9b6c59763050",
   "metadata": {},
   "outputs": [
    {
     "name": "stdout",
     "output_type": "stream",
     "text": [
      "나무를 1번 찍었습니다.\n",
      "나무를 2번 찍었습니다.\n",
      "나무를 3번 찍었습니다.\n",
      "나무를 4번 찍었습니다.\n",
      "나무를 5번 찍었습니다.\n",
      "나무를 6번 찍었습니다.\n",
      "나무를 7번 찍었습니다.\n",
      "나무를 8번 찍었습니다.\n",
      "나무를 9번 찍었습니다.\n",
      "나무를 10번 찍었습니다.\n",
      "나무 넘어갑니다.\n"
     ]
    }
   ],
   "source": [
    "treeHit = 0\n",
    "while treeHit < 10:\n",
    "     treeHit = treeHit +1\n",
    "     print(\"나무를 %d번 찍었습니다.\" % treeHit)\n",
    "     if treeHit == 10:\n",
    "         print(\"나무 넘어갑니다.\")\n",
    "         \n"
   ]
  },
  {
   "cell_type": "code",
   "execution_count": 75,
   "id": "19c8a230-dcfa-4af3-baa3-1551a28808c5",
   "metadata": {},
   "outputs": [],
   "source": [
    "prompt = '''\n",
    "1. add\n",
    "2. del\n",
    "3. list\n",
    "4. quit\n",
    "\n",
    "enter number : '''"
   ]
  },
  {
   "cell_type": "code",
   "execution_count": 77,
   "id": "dfd433dd-4609-4eaa-b2ad-8f41ea15f534",
   "metadata": {},
   "outputs": [
    {
     "name": "stdout",
     "output_type": "stream",
     "text": [
      "\n",
      "1. add\n",
      "2. del\n",
      "3. list\n",
      "4. quit\n",
      "\n",
      "enter number : \n"
     ]
    }
   ],
   "source": [
    "print(prompt)"
   ]
  },
  {
   "cell_type": "code",
   "execution_count": 79,
   "id": "b342d6b0-5e9c-4172-a144-240d96b3d448",
   "metadata": {},
   "outputs": [
    {
     "name": "stdin",
     "output_type": "stream",
     "text": [
      " hello\n"
     ]
    },
    {
     "data": {
      "text/plain": [
       "'hello'"
      ]
     },
     "execution_count": 79,
     "metadata": {},
     "output_type": "execute_result"
    }
   ],
   "source": [
    "input()"
   ]
  },
  {
   "cell_type": "code",
   "execution_count": null,
   "id": "f57e59c3-b235-45cb-a8a2-5c27343e7ab8",
   "metadata": {},
   "outputs": [
    {
     "name": "stdout",
     "output_type": "stream",
     "text": [
      "\n",
      "1. add\n",
      "2. del\n",
      "3. list\n",
      "4. quit\n",
      "\n",
      "enter number : \n"
     ]
    }
   ],
   "source": [
    "number = 0\n",
    "while number !=4:\n",
    "    print(prompt)\n",
    "    number = int(input())"
   ]
  },
  {
   "cell_type": "code",
   "execution_count": 83,
   "id": "dc3ec8b7-b85f-41ff-bde3-bae94787715b",
   "metadata": {},
   "outputs": [
    {
     "name": "stdout",
     "output_type": "stream",
     "text": [
      "돈을 받았으니 커피를 줍니다.\n",
      "남은 커피의 양은 9개입니다.\n",
      "돈을 받았으니 커피를 줍니다.\n",
      "남은 커피의 양은 8개입니다.\n",
      "돈을 받았으니 커피를 줍니다.\n",
      "남은 커피의 양은 7개입니다.\n",
      "돈을 받았으니 커피를 줍니다.\n",
      "남은 커피의 양은 6개입니다.\n",
      "돈을 받았으니 커피를 줍니다.\n",
      "남은 커피의 양은 5개입니다.\n",
      "돈을 받았으니 커피를 줍니다.\n",
      "남은 커피의 양은 4개입니다.\n",
      "돈을 받았으니 커피를 줍니다.\n",
      "남은 커피의 양은 3개입니다.\n",
      "돈을 받았으니 커피를 줍니다.\n",
      "남은 커피의 양은 2개입니다.\n",
      "돈을 받았으니 커피를 줍니다.\n",
      "남은 커피의 양은 1개입니다.\n",
      "돈을 받았으니 커피를 줍니다.\n",
      "남은 커피의 양은 0개입니다.\n",
      "커피가 다 떨어졌습니다. 판매를 중지합니다.\n"
     ]
    }
   ],
   "source": [
    " coffee = 10\n",
    " money = 300\n",
    " while money:\n",
    "     print(\"돈을 받았으니 커피를 줍니다.\")\n",
    "     coffee = coffee -1\n",
    "     print(\"남은 커피의 양은 %d개입니다.\" % coffee)\n",
    "     if coffee == 0:\n",
    "         print(\"커피가 다 떨어졌습니다. 판매를 중지합니다.\")\n",
    "         break\n",
    "\n"
   ]
  },
  {
   "cell_type": "code",
   "execution_count": null,
   "id": "bf8e7b0a-97ad-4f75-82ea-5c5c7303484e",
   "metadata": {},
   "outputs": [],
   "source": [
    "coffee = 10\n",
    " while True :\n",
    "     money = int(input('돈을 넣어주세요.:'))\n",
    "     if money == 300:\n",
    "         print(\"커피줘\")\n",
    "         coffee -= 1\n",
    "         print(f'커피는{coffee}개 남았어')\n",
    "     elif money > 300\n",
    "         print(f\"잔돈{money-300}받고  커피 가져가\")\n",
    "         coffee -= 1\n",
    "         print(f'커피는{coffee}개 남았어')  \n",
    "     else :\n",
    "         print(\"꺼져\")\n",
    "         print(f'커피는{coffee}개 남았어')\n",
    "     if coffee == 0:\n",
    "         print(\"없어\")\n",
    "         break\n"
   ]
  },
  {
   "cell_type": "code",
   "execution_count": null,
   "id": "7ca8cacd-78db-4120-b88c-d6d332c434db",
   "metadata": {},
   "outputs": [],
   "source": []
  }
 ],
 "metadata": {
  "kernelspec": {
   "display_name": "Python 3 (ipykernel)",
   "language": "python",
   "name": "python3"
  },
  "language_info": {
   "codemirror_mode": {
    "name": "ipython",
    "version": 3
   },
   "file_extension": ".py",
   "mimetype": "text/x-python",
   "name": "python",
   "nbconvert_exporter": "python",
   "pygments_lexer": "ipython3",
   "version": "3.12.4"
  }
 },
 "nbformat": 4,
 "nbformat_minor": 5
}
