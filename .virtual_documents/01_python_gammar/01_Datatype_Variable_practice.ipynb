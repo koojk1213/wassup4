


국어 = 80
영어 = 75
수학 = 55
과목 = [국어, 영어, 수학]
과목점수합계 = 국어 + 영어 + 수학
과목점수평균 = 과목점수합계/len(과목)
print(과목점수평균)

과목 = [80,75,55]
sum(과목)/len(과목)





13%2==1





pin = '881120-1068234'
yymmdd = "19" + pin[:6]
num = pin[7:]
print(yymmdd)
print(num)





pin = '881120-1068234'
print(pin[7])





a = "a:b:c:d"
b = a.replace(":", "#")
print(b)





a = [1, 3, 5, 4, 2]
a.sort()
a.reverse()
a





a = ['Life', 'is', 'too', 'short']
result = " ".join(a)
print(result)





a = (1, 2, 3)
a = a+(4,)
print(a)





a = dict()
a
a['name'] = 'python'
a[('a',)] = 'python'
a[1] = 'python'
a[250] = 'python'





a = {'A':90, 'B':80, 'C':70}
result = a['B']
print(a)
print(result)





a = [1, 1, 1, 2, 2, 3, 3, 3, 4, 4, 5]
aSet = set(a)
print(aSet)
b = list(aSet)
print(b)





a = b = [1, 2, 3]
a[1] = 4
print(b)

#a[1]자리의 2 대신 4로 바꿔 프린트(0,1,2,3), a=b 이므로 print 



