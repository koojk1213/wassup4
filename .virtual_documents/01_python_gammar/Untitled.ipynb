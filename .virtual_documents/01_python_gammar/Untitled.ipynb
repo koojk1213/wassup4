print("hello world")


print('mary\'s cosmetics')


print('신씨가 소리질렀다. "도둑이야"')


print("c:\\windows")


print("안녕하세요.\n만나서\t\t반갑습니다.")


print ("오늘은", "일요일")



naver;kakao;sk;samsung



print("naver", "kakao", "samsung", sep=";")



print("first", end=""); print("second")



print(5/3)



삼성전자 = 50000
총평가금액 = 삼성전자 * 10
print(총평가금액)



시가총액 = 298000000000000
현재가 = 50000
PER = 15.79
print(시가총액, type(시가총액))
print(현재가, type(현재가))
print(PER, type(PER))



s = "hello"
t = "python"
print(s+"!", t)


2 + 2 * 3 



a = "132"
print (type(a))




num_str = "720"  #형변환
num_int = int(num_str)
print(num_int, type(num_int))




num = 100
result = str(num)
print(result, type(result))


data = "15.79"
data = float(data)
print(data, type(data))


year = "2020"
print(int(year)-3)  # 2017
print(int(year)-2)  # 2018
print(int(year)-1)  # 2019


월 = 48584
총금액 = 월 * 36
print(총금액)


letters = 'python'
print(letters[0], letters[2])


license_plate = "24가 2210"
print(license_plate[4:])


string = "홀짝홀짝홀짝"
print(string[::2])


string = "PYTHON"
print(string[::-1])


phone_number = "010-1111-2222"
phone_number1 = phone_number.replace("-", ' ')
print(phone_number1)


phone_number = "010-1111-2222"
phone_number1 = phone_number.replace('-', '')
print(phone_number1)


url = "http://sharebook.kr"
url_split = url.split('.')
print(url_split[-1])


lang = 'python'
lang[0] = 'P'
print(lang)


string = 'abcdfe2a354a32a'
string = string.replace('a', 'A')
print(string)


string = 'abcd'
string.replace('b', 'B')
print(string)


a = "3"
b = "4"
print(a + b)


a = 3
b = 4
print(a+b)


print("Hi" * 3)


print("-" * 80)


t1 = "python"
t2 = "java"
t3 = t1 + ' ' + t2 + ' '
print(t3 * 4)


name1 = "김민수" 
age1 = 10
name2 = "이철희"
age2 = 13
print("이름: %s 나이: %d" % (name1, age1))
print("이름: %s 나이: %d" % (name2, age2))


name1 = "김민수" 
age1 = 10
name2 = "이철희"
age2 = 13


name1 = "김민수" 
age1 = 10
name2 = "이철희"
age2 = 13
print("이름: {} 나이: {}".format(name1, age1))
print("이름: {} 나이: {}".format(name2, age2))


name1 = "김민수" 
age1 = 10
name2 = "이철희"
age2 = 13
print(f"이름: {name1} 나이: {age1}")
print(f"이름: {name2} 나이: {age2}")


상장주식수 = "5,969,782,550"
컴마제거 = 상장주식수.replace(",", "")
타입변환 = int(컴마제거)
print(타입변환, type(타입변환))


분기 = "2020/03(E) (IFRS연결)"
print(분기[:7])


data = "   삼성전자    "
data1 = data.strip()
print(data1)


data = "   삼성전자    "


ticker = "btc_krw"
ticker1 = ticker.upper()
print(ticker1)


ticker = "BTC_KRW"
ticker = ticker.lower()
print(ticker)


a = "hello"
a = a.capitalize()


file_name = "보고서.xlsx"
file_name.endswith("xlsx")


file_name = "보고서.xlsx"
file_name.endswith(("xlsx", "xls"))


file_name = "2020_보고서.xlsx"
file_name.startswith("2020")


a = "hello world"
a.split()


ticker = "btc_krw"
ticker.split("_")


date = "2020-05-01"
date.split("-")


data = "039490     "
data = data.strip()


import this


import antigravity



