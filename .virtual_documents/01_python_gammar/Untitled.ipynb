#if


money = True
if money > 3000
    print("택시를 타고 가라")
else < 3000
    print("걸어 가라")
택시를 타고 가라



x =3
y =2
x> y


money = 3000
if money >= 3000:
    print("택시를 타라")
else:
    print("걸어가라")


money = 0
card = True
if money >= 3000 or card:
    print("택시타")
else :
    print("걸어")


money = 0
pocket = ['money', 'card', 'phone']
if 'money' in pocket:
    print('택시')
elif card: 
    print('택시')
else :
    print('튀')


###조건부


treeHit = 0
while treeHit < 10:
     treeHit = treeHit +1
     print("나무를 %d번 찍었습니다." % treeHit)
     if treeHit == 10:
         print("나무 넘어갑니다.")
         



prompt = '''
1. add
2. del
3. list
4. quit

enter number : '''


print(prompt)


input()


number = 0
while number !=4:
    print(prompt)
    number = int(input())


 coffee = 10
 money = 300
 while money:
     print("돈을 받았으니 커피를 줍니다.")
     coffee = coffee -1
     print("남은 커피의 양은 %d개입니다." % coffee)
     if coffee == 0:
         print("커피가 다 떨어졌습니다. 판매를 중지합니다.")
         break




coffee = 10
 while True :
     money = int(input('돈을 넣어주세요.:'))
     if money == 300:
         print("커피줘")
         coffee -= 1
         print(f'커피는{coffee}개 남았어')
     elif money > 300
         print(f"잔돈{money-300}받고  커피 가져가")
         coffee -= 1
         print(f'커피는{coffee}개 남았어')  
     else :
         print("꺼져")
         print(f'커피는{coffee}개 남았어')
     if coffee == 0:
         print("없어")
         break




