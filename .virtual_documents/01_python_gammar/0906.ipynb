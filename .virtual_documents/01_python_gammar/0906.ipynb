bool?


print(3 == 5)


print(3 < 5)



x = 4
print(1 < x < 5)



print ((3 == 3) and (4 != 3))



print(3 => 4)



print(3 >= 4)



print(3 <= 4)



if 4 < 3:
    print("Hello World")



if 4 < 3:
    print("Hello World.")
else:
    print("Hi, there.")



if True :
    print ("1")
    print ("2")
else :
    print("3")
print("4")



if True :
    if False:
        print("1")
        print("2")
    else:
        print("3")
else :
    print("4")
print("5")



user = input("입력:")
print(user * 2)



user = input("숫자를 입력하세요: ")
print(10 + int(user))



user = input("숫자를써봐")
if int(user) % 2 == 0:
    print("짝수")
else:
    print("홀수")



user = input("입력값: ")
num = 20 + int(user)
if num > 255:
    print(255)
else:
    print(num)


user = input("입력값: ")
num = 20 + int(user)
if num > 255:
    print(255)
else:
    print(num)



user = input("입력값: ")
num = int(user) - 20
if num > 255:
    print(255)
elif num < 0:
    print(0)
else:
    print(num)



time = input("현재시간: 00:00 입력해")
if time[-2:] == "00":
    print("정각")
else:
    print("정각X")



fruit = ["사과", "포도", "홍시"]
user = input("좋아하는 과일은?")
if user in fruit:
   print("정답")

else:
    print("오답")



warn_investment_list = ["Microsoft", "Google", "Naver", "Kakao", "SAMSUNG", "LG"]
user = input("종목명")
warn_investment_list
if user in warn_investment_list:
    print("X투자위험")

else :
    print("o투자가능")
    


fruit = {"봄" : "딸기", "여름" : "토마토", "가을" : "사과"}
c = input("내가 좋아하는 계절은")
if c in fruit:
   print("정답")
else :
   print("오답")



fruit = {"봄" : "딸기", "여름" : "토마토", "가을" : "사과"}
a = input("좋아하는 과일은?")
if a in fruit.values():
  print("정답")
else :
  print("오답")


user = input("")
if user.islower():
    print(user.upper())
else:
    print(user.lower())




