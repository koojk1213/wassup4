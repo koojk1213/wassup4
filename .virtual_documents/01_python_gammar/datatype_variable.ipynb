





a = 1
print(a)


b = 'python'
b


c = [1,2,3]





# 정수형
a = 123
a


a = -178
a


a = 0
a


# 실수형
a =1.2
b =-3.45
a, b


a = 4.24E10
a


#나눗셈
7%3, 3%7


#나눗셈 후 몫을 리턴
7//4


# 복합연산자
a = a + 1
a


a += 1
a


a = 1
a


a = a+1
a


a += 1
a


a = 1
a


a += 1
a


a = a+1
a


a -= 1
a


a += 2
a


## 문자열
"life is too short, you need python"
"a"
"123"


'life is too short, you need python'


"life is too short, you need python"


'''life is too short, you need python'''


#문자열에 작은 따옴펴 포함
python's favorite food is perl


"python's favorite food is perl"


\\\\\\


"python\'s favorite food is perl"



a = life is too short, you need python



a = 'life is too short, you need python'
a


a = 'life is too short
you need python'


multiline = "life is too short\nyou need python"
multiline


print(multiline)


"""
life is too short
you need python
"""


a = "life is too short"
len(a)


###문자열 인덱싱과 슬라이싱


a = "life is too short, you need python"
a


a[3]


a[17]


a[-1]


a[-6]


a[0:4]


a[12:19]


a[12:]


a[19:-7]


a = "20240904sunny"
date = a[:8]
weather = a[8:]
date, weather


year = a[:4]
day = a[4:8]
year, day


a = "python"
a[1]


a[1] = 'y'


year = a[:4]
day = a[4:8]
year,day
a[0] + 'y' + a[2:]


a[2:]


a[0]


a[0:2]


a[:2]


'y'+ a[2:]


i+a[2:]


a[0]+i+a[2:]


a[:1] + "y"+ a[2:6]


"i eat %d apples"%3


"i eat %s apples"%"five"


number = 3
"i eat %d apples"%number


### 포맷함수를 사용한 포매팅


"i eat {0} apples".format(3)


"i eat {0} apples".format("five")


"i eat {0} apples".format(number)


"i eat {} apples".format(number)


y = 3.41233434
"{0:0.4f}".format(y)


name ='홍길동'
age =30
'나의 이름은{}입니다. 나이는 {}입니다.'


f'나의 이름은 {name}입니다. 나이는 {age}입니다.'


f'나의 이름은 {name}입니다. 나이는 {age+1}입니다.'


d = {'name':'홍길동','age':30}
d


f"나의 이름은 {d['name']}입니다. 나이는 {d['age']}입니다."


a = 'habby'
a


a.count('b')


a = 'python is the best choice'
a.find('b')


a.find?


a = 'life is too short'
a.index('t'), a.find('t')


a.find('k')


'abcd'


','.join('abcd')


a = []
b = [1, 2, 3]
c = ['life', 'is', 'too', 'short']
d = [1, 2, 'life', 'is']
e = [1, 2, ['life', 'is']]
f = list()
a, b, c, d, e, f


type(a)


## 인덱싱과 슬라이싱


a = [1,2,3,]
a


a[0]


a[-1]


a[0]+a[2]


a[-1]


a = [1, 2, 3, ['a','b', 'c']]
a


len(a)


a = [1, 2, 3, ['a','b', 'c'], 4, 5]


a[2:5]


a[3][0:2]


#연산하기


a = [1,2,3]
b = [4,5,6,]
a + b


type(a[0])


a * 3


a[2]
str(a[2])


a[2]


a = [1, 2, 3]
a[2] = 4
a


del a[1]
a


a =[1, 2, 3, 4]
del a[2:]
a


a = [1, 2, 3]
a.append(4)
a


a. append([5, 6])
a


a = [1, 4, 3, 2]
a.sort()
a


a= ['a','c','b']
a.sort()
a


a.sort?


a.sort(reverse=True)
a



a= ['a','c','b']
a.reverse()
a


a = [1,2,3]
a.insert(0,4)
a


a.insert(3,5)
a


a = [1, 2, 3, 1, 2, 3]
a


a.remove(3)
a



a.remove(3)
a


a =[1,2,3]
a.pop()


a


a= [1, 2, 3, 1]
a.count(1)


a= [1, 2, 3]
a.append([4,5])
a


a= [1, 2, 3]
a.extend([4,5])
a


[1,2,3]+[4,5]



t1 = ()
t2 = (1,)
t3 =(1,2,3)
t4 = 1,2,3
t5 =('a', 'b',('ab','cd'))
t1,t2,t3,t4,t5


type(t1), type(t2), type(t3),type(t4),type(t5)


t6 = (1)
t6, type(t6)


t1 = (1,2,'a','b')
t1


dic = {'name':'pay', 'phone': '010-1234-1234', 'birth':'1111'}
dic


a = {'a':[1,2,3]}
a


dic.keys()


for k in dic.keys():
    print(k)


for k in dic.keys():
    print(dic[k])


dic.values()


dic.items()


s1 = set([1,2,3,4,5,6])
s2 = set([4,5,6,7,8,9])


s1 &s2


s1.intersection(s2)


s1.union(s2)


s1.difference(s2)


s1.add(0)
s1


s1.update([7,8,9])
s1


s1.remove(0)
s1



